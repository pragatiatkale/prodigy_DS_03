{
  "metadata": {
    "kernelspec": {
      "name": "python",
      "display_name": "Python (Pyodide)",
      "language": "python"
    },
    "language_info": {
      "codemirror_mode": {
        "name": "python",
        "version": 3
      },
      "file_extension": ".py",
      "mimetype": "text/x-python",
      "name": "python",
      "nbconvert_exporter": "python",
      "pygments_lexer": "ipython3",
      "version": "3.8"
    }
  },
  "nbformat_minor": 5,
  "nbformat": 4,
  "cells": [
    {
      "id": "5684d4b4-cfd8-476b-a5da-9a355493ac0f",
      "cell_type": "code",
      "source": "import pandas as pd\nfrom sklearn.model_selection import train_test_split\nfrom sklearn.preprocessing import LabelEncoder\nfrom sklearn.tree import DecisionTreeClassifier\nfrom sklearn.metrics import classification_report, accuracy_score, confusion_matrix\nimport matplotlib.pyplot as plt\nfrom sklearn.tree import plot_tree\n\n# Load the dataset (replace with your actual CSV path if needed)\ndf = pd.read_csv(\"bank.csv\")\n\n# Encode categorical columns\ndf_encoded = df.copy()\nlabel_encoders = {}\n\nfor column in df_encoded.select_dtypes(include=['object']).columns:\n    le = LabelEncoder()\n    df_encoded[column] = le.fit_transform(df_encoded[column])\n    label_encoders[column] = le\n\n# Split into features and target\nX = df_encoded.drop(\"y\", axis=1)\ny = df_encoded[\"y\"]\n\n# Train-test split\nX_train, X_test, y_train, y_test = train_test_split(X, y, test_size=0.2, random_state=42)\n\n# Create and train Decision Tree Classifier\nclf = DecisionTreeClassifier(random_state=42)\nclf.fit(X_train, y_train)\n\n# Predictions\ny_pred = clf.predict(X_test)\nprint(\"Accuracy:\", accuracy_score(y_test, y_pred))\n\nprint(\"\\nClassification Report:\\n\", classification_report(y_test, y_pred))\n\nplt.figure(figsize=(50, 30))\nplot_tree(clf, feature_names=X.columns, class_names=['No', 'Yes'], filled=True)\nplt.show()\n",
      "metadata": {
        "trusted": true
      },
      "outputs": [
        {
          "name": "stderr",
          "output_type": "stream",
          "text": "Matplotlib is building the font cache; this may take a moment.\n"
        },
        {
          "name": "stdout",
          "output_type": "stream",
          "text": "Accuracy: 0.8740462235983634\n\nClassification Report:\n               precision    recall  f1-score   support\n\n           0       0.93      0.93      0.93      7952\n           1       0.48      0.48      0.48      1091\n\n    accuracy                           0.87      9043\n   macro avg       0.70      0.70      0.70      9043\nweighted avg       0.87      0.87      0.87      9043\n\n"
        }
      ],
      "execution_count": null
    },
    {
      "id": "0886f6ba-ae63-4f63-b480-934b29c13850",
      "cell_type": "code",
      "source": "",
      "metadata": {
        "trusted": true
      },
      "outputs": [],
      "execution_count": null
    },
    {
      "id": "09eab4ab-a8c1-4340-87f9-bf47d07bf59f",
      "cell_type": "code",
      "source": "",
      "metadata": {
        "trusted": true
      },
      "outputs": [],
      "execution_count": null
    }
  ]
}